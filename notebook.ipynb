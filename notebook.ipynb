{
 "metadata": {
  "language_info": {
   "codemirror_mode": {
    "name": "ipython",
    "version": 3
   },
   "file_extension": ".py",
   "mimetype": "text/x-python",
   "name": "python",
   "nbconvert_exporter": "python",
   "pygments_lexer": "ipython3",
   "version": "3.9.2"
  },
  "orig_nbformat": 2,
  "kernelspec": {
   "name": "python3",
   "display_name": "Python 3.9.2 64-bit ('Pytorch-tutorial': conda)",
   "metadata": {
    "interpreter": {
     "hash": "24c39d20c7d8a09e8403c5ad1c339197858a311367e5692aa6239c07be60f346"
    }
   }
  }
 },
 "nbformat": 4,
 "nbformat_minor": 2,
 "cells": [
  {
   "cell_type": "code",
   "execution_count": 27,
   "metadata": {},
   "outputs": [
    {
     "output_type": "stream",
     "name": "stdout",
     "text": [
      "hello wor ld ! \n[[''], ['h'], ['e'], ['l'], ['l'], ['o'], [''], ['w'], ['o'], ['r'], [' '], ['l'], ['d'], [' !'], [' '], [' '], ['', '']]\n"
     ]
    }
   ],
   "source": [
    "import unicodedata\n",
    "import re\n",
    "\n",
    "def unicodeToAscii(unicode):\n",
    "    return ''.join(c for c in unicodedata.normalize('NFD', unicode) if unicodedata.category(c) != 'Mn')\n",
    "\n",
    "# Lowercase, trim, and remove non-letter characters\n",
    "def normalizeString(str):\n",
    "    str = unicodeToAscii(str.lower().strip())\n",
    "    # Support for regular expressions\n",
    "    str = re.sub(r\"([.!?])\", r\" \\1\", str)\n",
    "    str = re.sub(r\"[^a-zA-Z.!?]+\", r\" \", str)\n",
    "    return str\n",
    "lines = ' hello Wor4ld!**\\t'\n",
    "print(normalizeString(' hello Wor4ld!**\\t'))\n",
    "\n",
    "pairs = [[normalizeString(s) for s in l.split('\\t')] for l in lines]\n",
    "print(pairs)"
   ]
  },
  {
   "cell_type": "code",
   "execution_count": 28,
   "metadata": {},
   "outputs": [
    {
     "output_type": "stream",
     "name": "stdout",
     "text": [
      "[[''], ['h'], ['e'], ['l'], ['l'], ['o'], [''], ['w'], ['o'], ['r'], [' '], ['l'], ['d'], [' !'], [' '], [' '], ['', '']]\n[[''], ['h'], ['e'], ['l'], ['l'], ['o'], [''], ['w'], ['o'], ['r'], [' '], ['l'], ['d'], [' !'], [' '], [' '], ['', '']]\n"
     ]
    }
   ],
   "source": [
    "nrPairs = [list(p) for p in pairs]\n",
    "rPairs = [list(reversed(p)) for p in pairs]\n",
    "\n",
    "print(nrPairs)\n",
    "print(rPairs)"
   ]
  },
  {
   "cell_type": "code",
   "execution_count": null,
   "metadata": {},
   "outputs": [],
   "source": []
  },
  {
   "cell_type": "code",
   "execution_count": 5,
   "metadata": {},
   "outputs": [
    {
     "output_type": "stream",
     "name": "stdout",
     "text": [
      "tensor([[1., 1.],\n        [1., 1.],\n        [1., 1.],\n        [1., 1.]])\ntensor([[0.5952, 0.8660, 0.1219],\n        [0.5952, 0.8660, 0.1219],\n        [0.5952, 0.8660, 0.1219],\n        [0.5952, 0.8660, 0.1219]], grad_fn=<AddmmBackward>)\n"
     ]
    }
   ],
   "source": [
    "import torch\n",
    "import torch.nn as nn\n",
    "# https://stackoverflow.com/questions/54916135/what-is-the-class-definition-of-nn-linear-in-pytorch\n",
    "m = nn.Linear(2, 3) \n",
    "input = torch.ones(4, 2) # 4x2\n",
    "print(input)\n",
    "\n",
    "print(m(input)) # 4x3\n"
   ]
  },
  {
   "cell_type": "code",
   "execution_count": 3,
   "metadata": {},
   "outputs": [
    {
     "output_type": "stream",
     "name": "stdout",
     "text": [
      "def reorder_suite suite classes reverse False class_count len classes suite_class type suite bins [OrderedSet for i in range class_count + 1 ]partition_suite_by_type suite classes bins reverse reverse reordered_suite suite_class for i in range class_count + 1 reordered_suite addTests bins[i] return reordered_suite\nreorders a test suite by test type .\n\n\ndef first value try return value[0]except IndexError return u''\n9\nMAX:  100\n"
     ]
    }
   ],
   "source": [
    "from io import open\n",
    "\n",
    "source = open(\"./data/python/dev/code.original\").read().strip().split('\\n')\n",
    "print(source[0])\n",
    "target = open(\"./data/python/dev/javadoc.original\").read().strip().split('\\n')\n",
    "print(target[0])\n",
    "pairs = [[i, j]for i, j in zip(source, target)]\n",
    "print('\\n')\n",
    "print(pairs[1][0])\n",
    "print(len(pairs[1][0].split(' ')))\n",
    "\n",
    "max = 0\n",
    "for i in range(0, len(pairs)):\n",
    "    if len(pairs[i][0].split(' ')) > max:\n",
    "        max = len(pairs[i][0].split(' '))\n",
    "print(\"MAX: \", max)\n",
    "    \n",
    "\n",
    "\n"
   ]
  },
  {
   "cell_type": "code",
   "execution_count": null,
   "metadata": {},
   "outputs": [],
   "source": []
  }
 ]
}